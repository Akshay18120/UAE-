{
 "cells": [
  {
   "cell_type": "markdown",
   "metadata": {},
   "source": [
    "# ProcurementPro API Testing\n",
    "This notebook contains test cases for the ProcurementPro API endpoints."
   ]
  },
  {
   "cell_type": "markdown",
   "metadata": {},
   "source": [
    "## Setup"
   ]
  },
  {
   "cell_type": "code",
   "execution_count": null,
   "metadata": {},
   "outputs": [],
   "source": [
    "import os\n",
    "import json\n",
    "import requests\n",
    "from dotenv import load_dotenv\n",
    "import pandas as pd\n",
    "import matplotlib.pyplot as plt\n",
    "\n",
    "# Load environment variables\n",
    "load_dotenv()\n",
    "\n",
    "# API Configuration\n",
    "BASE_URL = os.getenv('API_BASE_URL', 'http://localhost:3001/api/v1')\n",
    "HEADERS = {\n",
    "    'Content-Type': 'application/json'\n",
    "}\n",
    "\n",
    "# Test user credentials\n",
    "TEST_USER = {\n",
    "    'email': 'test@example.com',\n",
    " 'password': 'testpassword123'\n",
    "}\n",
    "\n",
    "# Helper function to make authenticated requests\n",
    "def get_auth_headers(token):\n",
    "    return {**HEADERS, 'Authorization': f'Bearer {token}'}"
   ]
  },
  {
   "cell_type": "markdown",
   "metadata": {},
   "source": [
    "## Authentication Tests"
   ]
  },
  {
   "cell_type": "code",
   "execution_count": null,
   "metadata": {},
   "outputs": [],
   "source": [
    "def test_user_login() -> str:\n",
    "    \"\"\"Test user login and return access token\"\"\"\n",
    "    try:\n",
    "        response = requests.post(\n",
    "            f'{BASE_URL}/auth/login',\n",
    "            headers=HEADERS,\n",
    "            json=TEST_USER\n",
    "        )\n",
    "        response.raise_for_status()\n",
    "        token = response.json().get('token')\n",
    "        print(\"✅ Login successful\")\n",
    "        return token\n",
    "    except requests.exceptions.RequestException as e:\n",
    "        print(f\"❌ Login failed: {e}\")\n",
    "        return None"
   ]
  },
  {
   "cell_type": "markdown",
   "metadata": {},
   "source": [
    "## API Endpoint Tests"
   ]
  },
  {
   "cell_type": "code",
   "execution_count": null,
   "metadata": {},
   "outputs": [],
   "source": [
    "def test_get_loans(token: str):\n",
    "    \"\"\"Test getting list of loans\"\"\"\n",
    "    try:\n",
    "        response = requests.get(\n",
    "            f'{BASE_URL}/loans',\n",
    "            headers=get_auth_headers(token)\n",
    "        )\n",
    "        response.raise_for_status()\n",
    "        loans = response.json()\n",
    "        print(f\"✅ Retrieved {len(loans)} loans\")\n",
    "        return loans\n",
    "    except requests.exceptions.RequestException as e:\n",
    "        print(f\"❌ Failed to get loans: {e}\")\n",
    "        return None"
   ]
  },
  {
   "cell_type": "markdown",
   "metadata": {},
   "source": [
    "## Run All Tests"
   ]
  },
  {
   "cell_type": "code",
   "execution_count": null,
   "metadata": {},
   "outputs": [],
   "source": [
    "def run_all_tests():\n",
    "    print(\"🚀 Starting API Tests...\")\n",
    "    \n",
    "    # Test authentication\n",
    "    token = test_user_login()\n",
    "    if not token:\n",
    "        print(\"❌ Authentication tests failed\")\n",
    "        return\n",
    "    \n",
    "    # Test API endpoints\n",
    "    loans = test_get_loans(token)\n",
    "    if loans is not None:\n",
    "        # Convert to DataFrame for better visualization\n",
    "        df = pd.DataFrame(loans)\n",
    "        if not df.empty:\n",
    "            display(df.head())\n",
    "    \n",
    "    print(\"✅ All tests completed\")\n",
    "\n",
    "# Run all tests\n",
    "run_all_tests()"
   ]
  },
  {
   "cell_type": "markdown",
   "metadata": {},
   "source": [
    "## Performance Testing"
   ]
  },
  {
   "cell_type": "code",
   "execution_count": null,
   "metadata": {},
   "outputs": [],
   "source": [
    "def test_endpoint_performance(endpoint: str, method='GET', token=None, payload=None):\n",
    "    \"\"\"Test endpoint performance\"\"\"\n",
    "    import time\n",
    "    \n",
    "    headers = get_auth_headers(token) if token else HEADERS\n",
    "    url = f'{BASE_URL}/{endpoint}'\n",
    "    \n",
    "    try:\n",
    "        start_time = time.time()\n",
    "        if method.upper() == 'GET':\n",
    "            response = requests.get(url, headers=headers)\n",
    "        elif method.upper() == 'POST':\n",
    "            response = requests.post(url, headers=headers, json=payload)\n",
    "        elif method.upper() == 'PUT':\n",
    "            response = requests.put(url, headers=headers, json=payload)\n",
    "        elif method.upper() == 'DELETE':\n",
    "            response = requests.delete(url, headers=headers)\n",
    "            \n",
    "        response_time = (time.time() - start_time) * 1000  # Convert to milliseconds\n",
    "        response.raise_for_status()\n",
    "        \n",
    "        return {\n",
    "            'endpoint': endpoint,\n",
    " 'method': method,\n",
    " 'status_code': response.status_code,\n",
    " 'response_time_ms': response_time,\n",
    " 'success': True\n",
    "        }\n",
    "    except requests.exceptions.RequestException as e:\n",
    "        return {\n",
    "            'endpoint': endpoint,\n",
    " 'method': method,\n",
    " 'status_code': getattr(e.response, 'status_code', None) if hasattr(e, 'response') else None,\n",
    " 'error': str(e),\n",
    " 'success': False\n",
    "        }"
   ]
  },
  {
   "cell_type": "code",
   "execution_count": null,
   "metadata": {},
   "outputs": [],
   "source": [
    "def run_performance_tests(token):\n",
    "    endpoints = [\n",
    "        ('auth/me', 'GET', token),\n",
    "        ('loans', 'GET', token),\n",
    "        # Add more endpoints to test\n",
    "    ]\n",
    "    \n",
    "    results = []\n",
    "    for endpoint, method, t in endpoints:\n",
    "        result = test_endpoint_performance(endpoint, method, t)\n",
    "        results.append(result)\n",
    "    \n",
    "    # Display results\n",
    "    df = pd.DataFrame(results)\n",
    "    if not df.empty:\n",
    "        display(df)\n",
    "        \n",
    "        # Plot response times\n",
    "        if not df[df['success']].empty:\n",
    "            plt.figure(figsize=(10, 5))\n",
    "            df[df['success']].plot.bar(\n",
    "                x='endpoint',\n",
    "                y='response_time_ms',\n",
    "                title='API Response Times (ms)',\n",
    "                legend=False\n",
    "            )\n",
    "            plt.xticks(rotation=45, ha='right')\n",
    "            plt.tight_layout()\n",
    "            plt.show()"
   ]
  },
  {
   "cell_type": "code",
   "execution_count": null,
   "metadata": {},
   "outputs": [],
   "source": [
    "# Run performance tests with authenticated user\n",
    "token = test_user_login()\n",
    "if token:\n",
    "    run_performance_tests(token)"
   ]
  },
  {
   "cell_type": "markdown",
   "metadata": {},
   "source": [
    "## Load Testing (Sample)"
   ]
  },
  {
   "cell_type": "code",
   "execution_count": null,
   "metadata": {},
   "outputs": [],
   "source": [
    "def run_load_test(endpoint: str, num_requests: int = 10, token=None):\n",
    "    \"\"\"Run a simple load test on an endpoint\"\"\"\n",
    "    import time\n",
    "    import statistics\n",
    "    \n",
    "    headers = get_auth_headers(token) if token else HEADERS\n",
    "    url = f'{BASE_URL}/{endpoint}'\n",
    "    \n",
    "    response_times = []\n",
    "    success_count = 0\n",
    "    \n",
    "    print(f\"🚀 Starting load test for {endpoint} with {num_requests} requests...\")\n",
    "    \n",
    "    for i in range(num_requests):\n",
    "        try:\n",
    "            start_time = time.time()\n",
    "            response = requests.get(url, headers=headers)\n",
    "            response_time = (time.time() - start_time) * 1000  # Convert to ms\n",
    "            response_times.append(response_time)\n",
    "            \n",
    "            if response.status_code == 200:\n",
    "                success_count += 1\n",
    "                \n",
    "            if i % 10 == 0:\n",
    "                print(f\"Completed {i+1}/{num_requests} requests\")\n",
    "                \n",
    "        except Exception as e:\n",
    "            print(f\"Error on request {i+1}: {str(e)}\")\n",
    "    \n",
    "    # Calculate statistics\n",
    "    if response_times:\n",
    "        stats = {\n",
    "            'endpoint': endpoint,\n",
    " 'total_requests': num_requests,\n",
    " 'successful_requests': success_count,\n",
    " 'success_rate': (success_count / num_requests) * 100,\n",
    " 'avg_response_time_ms': statistics.mean(response_times),\n",
    " 'min_response_time_ms': min(response_times),\n",
    " 'max_response_time_ms': max(response_times),\n",
    " 'p95_response_time_ms': sorted(response_times)[int(len(response_times) * 0.95)]\n",
    "        }\n",
    "        \n",
    "        # Display results\n",
    "        df = pd.DataFrame([stats])\n",
    "        display(df)\n",
    "        \n",
    "        # Plot response time distribution\n",
    "        plt.figure(figsize=(10, 5))\n",
    "        plt.hist(response_times, bins=20, alpha=0.7, color='blue')\n",
    "        plt.axvline(statistics.mean(response_times), color='red', linestyle='dashed', linewidth=1)\n",
    "        plt.title(f'Response Time Distribution for {endpoint}')\n",
    "        plt.xlabel('Response Time (ms)')\n",
    "        plt.ylabel('Frequency')\n",
    "        plt.show()\n",
    "        \n",
    "        return stats\n",
    "    else:\n",
    "        print(\"❌ No successful requests to analyze\")\n",
    "        return None"
   ]
  },
  {
   "cell_type": "code",
   "execution_count": null,
   "metadata": {},
   "outputs": [],
   "source": [
    "# Example: Run load test on the loans endpoint\n",
    "# Note: Adjust the number of requests based on your testing needs\n",
    "# run_load_test('loans', num_requests=50, token=token)"
   ]
  }
 ],
 "metadata": {
  "kernelspec": {
   "display_name": "Python 3",
   "language": "python",
   "name": "python3"
  },
  "language_info": {
   "codemirror_mode": {
    "name": "ipython",
    "version": 3
   },
   "file_extension": ".py",
   "mimetype": "text/x-python",
   "name": "python",
   "nbconvert_exporter": "python",
   "pygments_lexer": "ipython3",
   "version": "3.8.0"
  }
 },
 "nbformat": 4,
 "nbformat_minor": 4
}
